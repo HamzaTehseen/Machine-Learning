{
  "cells": [
    {
      "cell_type": "markdown",
      "metadata": {
        "id": "6QKhaqazaKI2"
      },
      "source": [
        "#3 Types of Recommender Systems\n",
        "\n",
        "<u>**Urdu:**</u>\n",
        "\n",
        "**Content Based:** Recommends content on the basis of similarity. Tags create karte hain aur unki basis pe recommendation hoti ha\n",
        "\n",
        "**Collaborative Filtering:** Users ki similarity ki basis pe movies recommend karta ha. For example, 2 users hain, unko same movie achi lagi. Abb user A ne ek aur movie dekhi, recommender system wohi movie user B ko bhi recommend kardega since donon users ki choice similar ha. Eg. Facebook Newsfeed\n",
        "\n",
        "**Hybrid:** Upar waali donon approaches ko combine kardeta ha.\n",
        "\n",
        "We will be using content based approach in this project.\n",
        "\n",
        "<u>**English:**</u>\n",
        "\n",
        "**Content-Based:** Recommends content based on similarity. Tags are created, and recommendations are made based on them.\n",
        "\n",
        "**Collaborative Filtering:** Recommends movies based on the similarity of users. For example, if two users liked the same movie, and user A watches another movie, the recommender system will suggest that movie to user B as well, since both users have similar preferences. Example: Facebook Newsfeed.\n",
        "\n",
        "**Hybrid:** Combines the above two approaches. \n",
        "\n",
        "In this project, we will be using the content-based approach.\n",
        "\n",
        "\n"
      ]
    },
    {
      "cell_type": "markdown",
      "metadata": {
        "id": "JybVXFTwbqnG"
      },
      "source": [
        "#Process Flow\n",
        "\n",
        "![Project Flow.png](data:image/png;base64,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)"
      ]
    },
    {
      "cell_type": "markdown",
      "metadata": {
        "id": "Q89UQLdRdsKJ"
      },
      "source": [
        "#Info about Data\n",
        "\n",
        "<u>**Urdu**</u>\n",
        "Using **TMDB 5000 Movies Dataset**. There are two datasets:\n",
        "\n",
        "*Movies:* Is main different different cheezain hain like budget, genre, id, keywords, etc.\n",
        "\n",
        "*Credits:* Is main cast or crew hain\n",
        "\n",
        "<u>**English**</u>\n",
        "\n",
        "Using the **TMDB 5000 Movies Dataset**. There are two datasets:\n",
        "\n",
        "**Movies:** This dataset contains various attributes such as budget, genre, ID, keywords, etc.\n",
        "\n",
        "**Credits:** This dataset includes information about the cast and crew.\n",
        "\n",
        "\n"
      ]
    },
    {
      "cell_type": "code",
      "execution_count": null,
      "metadata": {
        "id": "8oB3AOkzIX2k"
      },
      "outputs": [],
      "source": [
        "import numpy as np\n",
        "import pandas as pd\n"
      ]
    },
    {
      "cell_type": "code",
      "execution_count": null,
      "metadata": {
        "id": "X-QfLmNoevde"
      },
      "outputs": [],
      "source": [
        "movies = pd.read_csv(\"/content/tmdb_5000_movies.csv\")\n",
        "credits = pd.read_csv(\"/content/tmdb_5000_credits.csv\")"
      ]
    },
    {
      "cell_type": "code",
      "execution_count": null,
      "metadata": {
        "colab": {
          "base_uri": "https://localhost:8080/",
          "height": 729
        },
        "id": "KxcO1QEtgXJ_",
        "outputId": "ff04b8f0-d335-4d1e-fbb7-1793a6a210bb"
      },
      "outputs": [],
      "source": [
        "movies.head()"
      ]
    },
    {
      "cell_type": "code",
      "execution_count": null,
      "metadata": {
        "colab": {
          "base_uri": "https://localhost:8080/",
          "height": 397
        },
        "id": "gXWfHPttgZ2w",
        "outputId": "78642e74-ba1e-4dc8-fef4-587e7a9fa3aa"
      },
      "outputs": [],
      "source": [
        "credits.head()"
      ]
    },
    {
      "cell_type": "code",
      "execution_count": null,
      "metadata": {
        "colab": {
          "base_uri": "https://localhost:8080/"
        },
        "id": "vw9ScY83g7yp",
        "outputId": "123fcbef-ccb4-4f95-f700-640e05c68d25"
      },
      "outputs": [],
      "source": [
        "#first movie k cast main kia kia ha\n",
        "credits.head(1)[\"cast\"].values"
      ]
    },
    {
      "cell_type": "code",
      "execution_count": null,
      "metadata": {
        "colab": {
          "base_uri": "https://localhost:8080/",
          "height": 397
        },
        "id": "vP5bCcvbhMFF",
        "outputId": "e0d9f932-f4c4-4c31-f368-1ae55c747c74"
      },
      "outputs": [],
      "source": [
        "credits.head()"
      ]
    },
    {
      "cell_type": "code",
      "execution_count": null,
      "metadata": {
        "id": "MqF71u8-hbay"
      },
      "outputs": [],
      "source": [
        "#Combining both the dataframes\n",
        "#Merging both on the basis of title\n",
        "\n",
        "movies = movies.merge(credits, on = \"title\")"
      ]
    },
    {
      "cell_type": "code",
      "execution_count": null,
      "metadata": {
        "colab": {
          "base_uri": "https://localhost:8080/"
        },
        "id": "j49lDGJIisNu",
        "outputId": "ce3c5126-2ae4-4485-b165-6e931cd70578"
      },
      "outputs": [],
      "source": [
        "movies[\"original_language\"].value_counts()"
      ]
    },
    {
      "cell_type": "markdown",
      "metadata": {
        "id": "YLG0s77xh9ze"
      },
      "source": [
        "**List of Columns to keep**\n",
        "\n",
        "\n",
        "\n",
        "1.   genres\n",
        "2.   movie_id (Movie k posters fetch karne honge jiske liye id kaam ayegi)\n",
        "3.   keywords\n",
        "4.   overview\n",
        "5.   title\n",
        "6.   cast\n",
        "7.   crew\n",
        "\n",
        "Iske ilawa jo columns hain unko bhi use kia jaa sakta ha. Iss youtube video k liye remove kia ha\n",
        "\n"
      ]
    },
    {
      "cell_type": "code",
      "execution_count": null,
      "metadata": {
        "id": "K6JLHVLqhoW1"
      },
      "outputs": [],
      "source": [
        "movies = movies[[\"movie_id\", \"title\", \"overview\", \"genres\", \"keywords\", \"cast\", \"crew\"]]"
      ]
    },
    {
      "cell_type": "code",
      "execution_count": null,
      "metadata": {
        "colab": {
          "base_uri": "https://localhost:8080/",
          "height": 729
        },
        "id": "jfb4ok5EkFpr",
        "outputId": "f2c4de89-770a-47db-b66f-af433cf1d133"
      },
      "outputs": [],
      "source": [
        "movies.head()"
      ]
    },
    {
      "cell_type": "markdown",
      "metadata": {
        "id": "q79AEwo_kSyC"
      },
      "source": [
        "We'll make a new dataframe now which will include *movie_id*, *title*, and *tags*. We'll make the *tags* column combining *overview*, *genres*, *keywords*, *cast*, and *crew*"
      ]
    },
    {
      "cell_type": "code",
      "execution_count": null,
      "metadata": {
        "colab": {
          "base_uri": "https://localhost:8080/"
        },
        "id": "yTbBsFc5kMdH",
        "outputId": "a0dca1a8-f5de-45bd-ef66-74dcedace0b8"
      },
      "outputs": [],
      "source": [
        "#Checking for missing data\n",
        "\n",
        "movies.isnull().sum()"
      ]
    },
    {
      "cell_type": "code",
      "execution_count": null,
      "metadata": {
        "id": "YO-Hro-FlKTa"
      },
      "outputs": [],
      "source": [
        "movies.dropna(inplace = True)"
      ]
    },
    {
      "cell_type": "code",
      "execution_count": null,
      "metadata": {
        "colab": {
          "base_uri": "https://localhost:8080/"
        },
        "id": "O7I9sv33lOJd",
        "outputId": "f710fe69-06f6-43f4-997b-dfca5e3b5e9b"
      },
      "outputs": [],
      "source": [
        "#Checking for duplicated data\n",
        "\n",
        "movies.duplicated().sum()"
      ]
    },
    {
      "cell_type": "code",
      "execution_count": null,
      "metadata": {
        "colab": {
          "base_uri": "https://localhost:8080/",
          "height": 53
        },
        "id": "730g7D4rlYSZ",
        "outputId": "50f30994-d40c-4134-e583-5b19fd37544b"
      },
      "outputs": [],
      "source": [
        "movies.iloc[0].genres"
      ]
    },
    {
      "cell_type": "code",
      "execution_count": null,
      "metadata": {
        "id": "xUW-o1LGldZC"
      },
      "outputs": [],
      "source": [
        "#Yeh jo upar genres dictionary format main aaye hain, hamen isko ek list main\n",
        "#convert karna ha"
      ]
    },
    {
      "cell_type": "code",
      "execution_count": null,
      "metadata": {
        "id": "9MlKHawGlrBB"
      },
      "outputs": [],
      "source": [
        "# def convert(obj):\n",
        "#   L = []\n",
        "#   for i in obj:\n",
        "#     L.append(i[\"name\"])\n",
        "#   return L\n"
      ]
    },
    {
      "cell_type": "code",
      "execution_count": null,
      "metadata": {
        "id": "u2Clvh4Sl9Vc"
      },
      "outputs": [],
      "source": [
        "# convert([{\"id\": 28, \"name\": \"Action\"}, {\"id\": 12, \"name\": \"Adventure\"}, {\"id\": 14, \"name\": \"Fantasy\"}, {\"id\": 878, \"name\": \"Science Fiction\"}])"
      ]
    },
    {
      "cell_type": "code",
      "execution_count": null,
      "metadata": {
        "id": "GsJhuyw1mCiO"
      },
      "outputs": [],
      "source": [
        "#Youtuber k paas uper waale functionse kaam nahi hua tha to uss ne yeh ast or\n",
        "#literal_eval use kia tha\n",
        "\n",
        "import ast\n",
        "def convert(obj):\n",
        "  L = []\n",
        "  for i in ast.literal_eval(obj):\n",
        "    L.append(i[\"name\"])\n",
        "  return L"
      ]
    },
    {
      "cell_type": "code",
      "execution_count": null,
      "metadata": {
        "id": "PATWDbv9mkOQ"
      },
      "outputs": [],
      "source": [
        "movies[\"genres\"] = movies[\"genres\"].apply(convert)"
      ]
    },
    {
      "cell_type": "code",
      "execution_count": null,
      "metadata": {
        "colab": {
          "base_uri": "https://localhost:8080/",
          "height": 729
        },
        "id": "66WGdRljmqMc",
        "outputId": "b713fe38-5132-4994-c6f9-7fe8540e6ea2"
      },
      "outputs": [],
      "source": [
        "movies.head()"
      ]
    },
    {
      "cell_type": "code",
      "execution_count": null,
      "metadata": {
        "id": "gMsBFDFs-E6p"
      },
      "outputs": [],
      "source": [
        "movies[\"keywords\"] = movies[\"keywords\"].apply(convert)"
      ]
    },
    {
      "cell_type": "code",
      "execution_count": null,
      "metadata": {
        "colab": {
          "base_uri": "https://localhost:8080/",
          "height": 729
        },
        "id": "vdOxnmm9-PiO",
        "outputId": "7ad9eebc-afc2-4e27-f8a6-0d90e516d4e6"
      },
      "outputs": [],
      "source": [
        "movies.head()"
      ]
    },
    {
      "cell_type": "code",
      "execution_count": null,
      "metadata": {
        "colab": {
          "base_uri": "https://localhost:8080/"
        },
        "id": "bPHFoKxoDI2n",
        "outputId": "7a4c5239-5a87-4c53-f79f-9e88ad79bfd6"
      },
      "outputs": [],
      "source": [
        "movies[\"cast\"].head(1).values"
      ]
    },
    {
      "cell_type": "code",
      "execution_count": null,
      "metadata": {
        "id": "w08TKwcf-Tk6"
      },
      "outputs": [],
      "source": [
        "def convert3(text):\n",
        "  L = []\n",
        "  counter = 0\n",
        "  for i in ast.literal_eval(text):\n",
        "    if counter != 3:\n",
        "      L.append(i[\"name\"])\n",
        "      counter += 1\n",
        "    else:\n",
        "      break\n",
        "  return L"
      ]
    },
    {
      "cell_type": "code",
      "execution_count": null,
      "metadata": {
        "id": "7M_HyD_sC3yl"
      },
      "outputs": [],
      "source": [
        "movies[\"cast\"] = movies[\"cast\"].apply(convert3)"
      ]
    },
    {
      "cell_type": "code",
      "execution_count": null,
      "metadata": {
        "colab": {
          "base_uri": "https://localhost:8080/",
          "height": 729
        },
        "id": "M1YfarKiDjbd",
        "outputId": "980c96fc-4204-4f5c-eebd-20009b4e7fdf"
      },
      "outputs": [],
      "source": [
        "movies.head()"
      ]
    },
    {
      "cell_type": "code",
      "execution_count": null,
      "metadata": {
        "colab": {
          "base_uri": "https://localhost:8080/"
        },
        "id": "sd6gO4JADmy2",
        "outputId": "95d24a3f-413e-4a35-c413-e8ccd4dba7b0"
      },
      "outputs": [],
      "source": [
        "movies[\"crew\"].head(1).values"
      ]
    },
    {
      "cell_type": "markdown",
      "metadata": {
        "id": "tuIYYeqPD2Pm"
      },
      "source": [
        "<u>**Urdu:**</u>\n",
        "\n",
        "Abb hamen crew ki itni saari dictionaries main se sirf wo dictionary chahiye jahan *job* ki value *director* ha because We only want the director's name as a feature in our recommender system\n",
        "\n",
        "<u>**English:**</u>\n",
        "\n",
        "Now we need only that dictionary from the many dictionaries in the crew where the value of *job* is *director*, because we only want the director's name as a feature in our recommender system."
      ]
    },
    {
      "cell_type": "code",
      "execution_count": null,
      "metadata": {
        "id": "yr7yg2myDvk1"
      },
      "outputs": [],
      "source": [
        "def fetch_director(txt):\n",
        "  L = []\n",
        "  for i in ast.literal_eval(txt):\n",
        "    if i[\"job\"] == \"Director\":\n",
        "      L.append(i[\"name\"])\n",
        "      break\n",
        "  return L"
      ]
    },
    {
      "cell_type": "code",
      "execution_count": null,
      "metadata": {
        "id": "dkOWRMxPEcD8"
      },
      "outputs": [],
      "source": [
        "movies[\"crew\"] = movies[\"crew\"].apply(fetch_director)"
      ]
    },
    {
      "cell_type": "code",
      "execution_count": null,
      "metadata": {
        "colab": {
          "base_uri": "https://localhost:8080/",
          "height": 729
        },
        "id": "RMm_UzD7EhbQ",
        "outputId": "b8022928-809f-4e8b-a5de-69d828c1a431"
      },
      "outputs": [],
      "source": [
        "movies.head()"
      ]
    },
    {
      "cell_type": "code",
      "execution_count": null,
      "metadata": {
        "colab": {
          "base_uri": "https://localhost:8080/"
        },
        "id": "U1Tx5bZeFGhS",
        "outputId": "6db4e0af-9ae6-4bc0-dd4f-a9a82d9a4545"
      },
      "outputs": [],
      "source": [
        "movies[\"overview\"].head(1).values"
      ]
    },
    {
      "cell_type": "code",
      "execution_count": null,
      "metadata": {
        "id": "5Bg4BmOyFNFE"
      },
      "outputs": [],
      "source": [
        "movies[\"overview\"] = movies[\"overview\"].apply(lambda x:x.split())"
      ]
    },
    {
      "cell_type": "code",
      "execution_count": null,
      "metadata": {
        "colab": {
          "base_uri": "https://localhost:8080/",
          "height": 712
        },
        "id": "gwFdMg9NFY--",
        "outputId": "de84193a-4288-4eba-815b-fd5994533ddb"
      },
      "outputs": [],
      "source": [
        "movies.head()"
      ]
    },
    {
      "cell_type": "markdown",
      "metadata": {
        "id": "8HCCQaThGA0Z"
      },
      "source": [
        "<u>**Urdu:**</u>\n",
        "\n",
        "Abb hamen jitni bhi strings hain jinke beech main space ha, unka space hatana hoga. Eg *Sam Worthington* -> *SamWorthington*\n",
        "\n",
        "Iska reason yeh ha k jabb 2non k beech main space hoga, toh 2non separate entities k taur pe treat hongi. Uska nuqsan yeh ha k hamare paas ek aur *Sam* ha *Sam Mendes*\n",
        "\n",
        "Hamara recommender system is scenario main confuse hojayega k hamen knse *Sam* ki movies dekhni hain, but jabb 2non naam combine ho k ek single entity bann jayenge, to recommender system ko asaani hogi\n",
        "\n",
        "<u>**English:**</u>\n",
        "\n",
        "Now, we need to remove the spaces between all the strings. For example, *Sam Worthington* should become *SamWorthington*.\n",
        "\n",
        "The reason for this is that when there is a space between two entities, they will be treated as separate entities. This can be problematic, for instance, we have another *Sam* named *Sam Mendes*. \n",
        "\n",
        "Our recommender system might get confused in this scenario, as it won't know which *Sam* we are referring to. However, if we combine both names into a single entity by removing the space, the recommender system will find it easier to handle."
      ]
    },
    {
      "cell_type": "code",
      "execution_count": null,
      "metadata": {
        "id": "6D4VrgeQFgIF"
      },
      "outputs": [],
      "source": [
        "movies[\"genres\"] = movies[\"genres\"].apply(lambda x:[i.replace(\" \", \"\") for i in x])\n",
        "\n",
        "#upar waale code main ek lambda function ha jahan hum bata rahe hain k jabb x\n",
        "#mile to ek loop chalao, jahan x k har iteration main jahan jahan space mile\n",
        "#us space ko finish kardo/nothing se replace kardo"
      ]
    },
    {
      "cell_type": "code",
      "execution_count": null,
      "metadata": {
        "id": "7x-mbskwG0ei"
      },
      "outputs": [],
      "source": [
        "movies[\"keywords\"] = movies[\"keywords\"].apply(lambda x:[i.replace(\" \", \"\") for i in x])\n",
        "movies[\"cast\"] = movies[\"cast\"].apply(lambda x:[i.replace(\" \", \"\") for i in x])\n",
        "movies[\"crew\"] = movies[\"crew\"].apply(lambda x:[i.replace(\" \", \"\") for i in x])"
      ]
    },
    {
      "cell_type": "code",
      "execution_count": null,
      "metadata": {
        "colab": {
          "base_uri": "https://localhost:8080/",
          "height": 590
        },
        "id": "E-l_yw2-HZtT",
        "outputId": "606ad31b-1c6a-471e-870f-649a249bd474"
      },
      "outputs": [],
      "source": [
        "movies.head()"
      ]
    },
    {
      "cell_type": "code",
      "execution_count": null,
      "metadata": {
        "id": "EGlzVf0yHbOC"
      },
      "outputs": [],
      "source": [
        "#Now concatentating all the list columns to make a new \"tags\" column\n",
        "\n",
        "movies[\"tags\"] = movies[\"overview\"] + movies[\"genres\"] + movies[\"keywords\"] + movies[\"cast\"] + movies[\"crew\"]"
      ]
    },
    {
      "cell_type": "code",
      "execution_count": null,
      "metadata": {
        "colab": {
          "base_uri": "https://localhost:8080/",
          "height": 590
        },
        "id": "OmJfJ1EgH61K",
        "outputId": "14503ab5-cde0-4b31-f662-ea6abf79b9f1"
      },
      "outputs": [],
      "source": [
        "movies.head()"
      ]
    },
    {
      "cell_type": "code",
      "execution_count": null,
      "metadata": {
        "id": "z3cmMgyvH8j0"
      },
      "outputs": [],
      "source": [
        "new_movie_df = movies[[\"movie_id\", \"title\", \"tags\"]]"
      ]
    },
    {
      "cell_type": "code",
      "execution_count": null,
      "metadata": {
        "colab": {
          "base_uri": "https://localhost:8080/",
          "height": 293
        },
        "id": "5og52D0bIWMW",
        "outputId": "3a604cb4-755f-400b-c150-c71fcc94b490"
      },
      "outputs": [],
      "source": [
        "new_movie_df.head()"
      ]
    },
    {
      "cell_type": "code",
      "execution_count": null,
      "metadata": {
        "colab": {
          "base_uri": "https://localhost:8080/"
        },
        "id": "9Ypolib8IJIp",
        "outputId": "f02c3431-154f-4d2b-adbc-a53ffc7d8aef"
      },
      "outputs": [],
      "source": [
        "new_movie_df[\"tags\"] = new_movie_df[\"tags\"].apply(lambda x:\" \".join(x))\n",
        "\n",
        "#Jabb humne split kia tha to har word separate string bann gaya tha. Above code\n",
        "#code k through, hum ne jahan jahan space ha un words ko join kardiya ha jis\n",
        "#se ek proper sentence bann gaya ha"
      ]
    },
    {
      "cell_type": "code",
      "execution_count": null,
      "metadata": {
        "colab": {
          "base_uri": "https://localhost:8080/"
        },
        "id": "4Kd63d5IIaWd",
        "outputId": "91b852ff-3e43-4fc7-add2-93c988a96fce"
      },
      "outputs": [],
      "source": [
        "new_movie_df[\"tags\"].head(1).values"
      ]
    },
    {
      "cell_type": "code",
      "execution_count": null,
      "metadata": {
        "colab": {
          "base_uri": "https://localhost:8080/",
          "height": 293
        },
        "id": "WMJM9qJCI1f9",
        "outputId": "11b8c288-d090-4252-c34a-babd2c113d20"
      },
      "outputs": [],
      "source": [
        "new_movie_df.head()"
      ]
    },
    {
      "cell_type": "code",
      "execution_count": null,
      "metadata": {
        "colab": {
          "base_uri": "https://localhost:8080/"
        },
        "id": "tkLFK1qHI8Xt",
        "outputId": "93b040bb-e968-4974-9e45-7ac41a3327f0"
      },
      "outputs": [],
      "source": [
        "#Tags ko lowercase main convert kardenge\n",
        "\n",
        "new_movie_df[\"tags\"] = new_movie_df[\"tags\"].apply(lambda x:x.lower())"
      ]
    },
    {
      "cell_type": "code",
      "execution_count": null,
      "metadata": {
        "colab": {
          "base_uri": "https://localhost:8080/",
          "height": 293
        },
        "id": "w8ZECETXJjQt",
        "outputId": "6a811190-b37e-4e87-9772-9c5c1688ce09"
      },
      "outputs": [],
      "source": [
        "new_movie_df.head()"
      ]
    },
    {
      "cell_type": "markdown",
      "metadata": {
        "id": "2_QgNiNXKLP6"
      },
      "source": [
        "#Vectorization\n",
        "\n",
        "<u>**Urdu:**</u>\n",
        "\n",
        "Hamare paas *tags* k andar saara textual data ha. To make a recommender system, hamen calculate karna ha k 2 movies kitni similar hain. To do that, we do **vectorization**. Is k through, har movie ek vector bann jayegi, aur jabb user ek movie choose karega, to uske closest jo vectors honge, hamara recommender system wo movie suggest kardega\n",
        "\n",
        "Techniques to convert words into vectors:\n",
        "\n",
        "\n",
        "\n",
        "1.   Bag of words\n",
        "2.   tf idf\n",
        "3.   word2vec etc.\n",
        "\n",
        "<u>**English:**</u>\n",
        "\n",
        "We have all the textual data within our *tags*. To create a recommender system, we need to calculate how similar two movies are. To achieve this, we perform **vectorization**. Through this process, each movie will be represented as a vector. When a user selects a movie, the recommender system suggests movies with the closest vectors.\n",
        "\n",
        "Techniques to convert words into vectors include:\n",
        "\n",
        "1. Bag of words\n",
        "2. tf-idf\n",
        "3. word2vec, etc.\n"
      ]
    },
    {
      "cell_type": "markdown",
      "metadata": {
        "id": "E-pfO3_bLUOj"
      },
      "source": [
        "<u>**Urdu:**</u>\n",
        "\n",
        "Bag of words main hum saari movies k saare tags ko combine kardenge. Phir hum uss main check karenge k 5000 most common words kon kon se hain aur unhen extract karlenge. Uske baad hum check karenge k har movie main har word kitni baar aay ha.\n",
        "\n",
        "Hum pehli movie uthayenge, check karenge word1 kitni baar aaya, word2 kitni baar aaya, ese iterate kar k word5000 tak jaayenge. Aur saari values ek table main daal denge.\n",
        "\n",
        "Phir hum second movie main jaayenge aur same kaam karenge, ese kar k movie5000 tak jayenge aur ek dataframe bann jayega jiski shape hogi (5000,5000) -> (no. of movies, no. of words)\n",
        "\n",
        "Us dataframe k andar, har row ek vector bann jayegi.\n",
        "\n",
        "<u>**English:**</u>\n",
        "\n",
        "In the Bag of Words method, we will combine all the tags of every movie. Then, we will check for the 5000 most common words and extract them. After that, we will examine how many times each word appears in each movie.\n",
        "\n",
        "We will start with the first movie, check how many times word1 appears, then word2, and so on, iterating through word5000. All these values will be compiled into a table.\n",
        "\n",
        "Next, we move on to the second movie and repeat the process, continuing until we reach movie5000. This will result in a dataframe with a shape of (5000, 5000) -> (number of movies, number of words).\n",
        "\n",
        "Within this dataframe, each row will represent a vector."
      ]
    },
    {
      "cell_type": "markdown",
      "metadata": {
        "id": "qbATloZNNwtM"
      },
      "source": [
        "<u>**Urdu:**</u>\n",
        "\n",
        "Kitne most common words extract karenge, yeh hamare upar depend karta ha. But best practice yehi ha k kam se kam words nikaal k best performance den taa k dimensionality vectors ki kam rahe. Yeh efficiency main help karta ha\n",
        "\n",
        "Secondly, most common words main hum stopwords(the, to, and, are, etc.) ko ignore kardenge\n",
        "\n",
        "<u>**English:**</u>\n",
        "\n",
        "We will extract a certain number of the most common words, and this depends on our preferences. However, the best practice is to extract a minimal set of words for optimal performance, ensuring that the dimensionality of vectors remains low. This contributes to efficiency.\n",
        "\n",
        "Secondly, in the most common words, we will ignore stopwords (such as \"the,\" \"to,\" \"and,\" \"are,\" etc.).\n",
        "\n"
      ]
    },
    {
      "cell_type": "markdown",
      "metadata": {
        "id": "UNsiGSItOc1g"
      },
      "source": [
        "<u>**Urdu:**</u>\n",
        "\n",
        "Ye sabb karne k liye hum as usual libraries use karenge\n",
        "\n",
        "Sk-learn k andar ek class ha *CountVectorizer* jis k through ham extraction karenge\n",
        "\n",
        "<u>**English:**</u>\n",
        "\n",
        "To do all this, as usual, we will use libraries.\n",
        "\n",
        "Inside scikit-learn, there is a class called *CountVectorizer* through which we will perform the extraction."
      ]
    },
    {
      "cell_type": "code",
      "execution_count": null,
      "metadata": {
        "id": "Td2uEw99JmeB"
      },
      "outputs": [],
      "source": [
        "from sklearn.feature_extraction.text import CountVectorizer\n",
        "\n",
        "#max_features = no. of most commonwords to be extracted\n",
        "#stop_words = Jis language k stopwords hatane hain woh language\n",
        "cv = CountVectorizer(max_features = 5000, stop_words = 'english')"
      ]
    },
    {
      "cell_type": "code",
      "execution_count": null,
      "metadata": {
        "id": "MfIvGsJ7Vyrj"
      },
      "outputs": [],
      "source": [
        "#Apne dataset pe transformation apply karne k baad ussay array main convert karenge\n",
        "vectors = cv.fit_transform(new_movie_df[\"tags\"]).toarray()"
      ]
    },
    {
      "cell_type": "code",
      "execution_count": null,
      "metadata": {
        "colab": {
          "base_uri": "https://localhost:8080/"
        },
        "id": "HmLKNMFPWLf6",
        "outputId": "5e9eb981-a307-4728-90a7-835f63aa2238"
      },
      "outputs": [],
      "source": [
        "vectors"
      ]
    },
    {
      "cell_type": "code",
      "execution_count": null,
      "metadata": {
        "colab": {
          "base_uri": "https://localhost:8080/"
        },
        "id": "aZS_ZucRWUmF",
        "outputId": "dbb0f034-607b-4857-a4ea-20345336f8cc"
      },
      "outputs": [],
      "source": [
        "vectors[0]"
      ]
    },
    {
      "cell_type": "code",
      "execution_count": null,
      "metadata": {
        "colab": {
          "base_uri": "https://localhost:8080/"
        },
        "id": "MmRuV_N_Wrms",
        "outputId": "27fd5313-2d7f-4b13-d43c-b9ee7d7193aa"
      },
      "outputs": [],
      "source": [
        "cv.get_feature_names_out()"
      ]
    },
    {
      "cell_type": "code",
      "execution_count": null,
      "metadata": {
        "colab": {
          "base_uri": "https://localhost:8080/"
        },
        "id": "t_FMLmTxW23A",
        "outputId": "03af4b22-4a69-46db-eb1d-034a299d8fe7"
      },
      "outputs": [],
      "source": [
        "len(cv.get_feature_names_out())"
      ]
    },
    {
      "cell_type": "markdown",
      "metadata": {
        "id": "jzK2NvUrX6Ze"
      },
      "source": [
        "<u>**Urdu:**</u>\n",
        "\n",
        "*Problem:* Singular or plural words 2 alag alag features bann gaye hain (Actor, Actors)\n",
        "\n",
        "Isko sahi karne k liye *stemming* method apply karenge, jahan word ki root form mil jaati ha\n",
        "\n",
        "<u>**English:**</u>\n",
        "\n",
        "*Problem:* Singular or plural words have become two separate features (Actor, Actors).\n",
        "\n",
        "To address this, we will apply the *stemming* method, where we obtain the root form of the word."
      ]
    },
    {
      "cell_type": "code",
      "execution_count": null,
      "metadata": {
        "id": "2aeHRZN4X0Ps"
      },
      "outputs": [],
      "source": [
        "import nltk"
      ]
    },
    {
      "cell_type": "code",
      "execution_count": null,
      "metadata": {
        "id": "08PDRiZ6YU4v"
      },
      "outputs": [],
      "source": [
        "from nltk.stem.porter import PorterStemmer\n",
        "ps = PorterStemmer()\n"
      ]
    },
    {
      "cell_type": "code",
      "execution_count": null,
      "metadata": {
        "id": "7aeQ1EraYhEQ"
      },
      "outputs": [],
      "source": [
        "#Creating stemming function\n",
        "\n",
        "def stem(text):\n",
        "  y = []\n",
        "\n",
        "  for i in text.split():\n",
        "    y.append(ps.stem(i))\n",
        "\n",
        "  return \" \".join(y)"
      ]
    },
    {
      "cell_type": "markdown",
      "metadata": {
        "id": "Va8ExJ5pZOwy"
      },
      "source": [
        "This function appears to be a Python function for stemming words in a given text. Let's break down the code:\n",
        "\n",
        "```python\n",
        "def stem(text):\n",
        "    y = []\n",
        "\n",
        "    for i in text.split():\n",
        "        y.append(ps.stem(i))\n",
        "\n",
        "    return \" \".join(y)\n",
        "```\n",
        "\n",
        "Explanation:\n",
        "\n",
        "1. `def stem(text):`: This line defines a function named `stem` that takes a single argument `text`.\n",
        "\n",
        "2. `y = []`: This initializes an empty list `y` where the stemmed words will be stored.\n",
        "\n",
        "3. `for i in text.split():`: This starts a loop that iterates through each word in the input `text` after splitting it. The `split()` method is used to break the text into a list of words.\n",
        "\n",
        "4. `y.append(ps.stem(i))`: Within the loop, each word `i` is passed to a stemming function (`ps.stem(i)`) using the Porter stemming algorithm. The stemmed word is then appended to the list `y`.\n",
        "\n",
        "5. `return \" \".join(y)`: After processing all words in the input text, the function returns a string that is the concatenation of the stemmed words, joined by a space.\n",
        "\n",
        "In this function, `ps.stem(i)` is likely using a stemming algorithm from the NLTK (Natural Language Toolkit) library. The purpose of stemming is to reduce words to their root or base form, which can be useful in natural language processing tasks such as text analysis, information retrieval, and machine learning. The NLTK library provides various stemming algorithms, and `ps.stem(i)` suggests the use of the Porter stemming algorithm from the NLTK library (assuming `ps` is an alias for `nltk.stem.PorterStemmer`)."
      ]
    },
    {
      "cell_type": "code",
      "execution_count": null,
      "metadata": {
        "colab": {
          "base_uri": "https://localhost:8080/"
        },
        "id": "b-svBfKEYx07",
        "outputId": "32b6a01c-b172-4368-ce7e-34702c13dd5b"
      },
      "outputs": [],
      "source": [
        "new_movie_df[\"tags\"] = new_movie_df[\"tags\"].apply(stem)"
      ]
    },
    {
      "cell_type": "code",
      "execution_count": null,
      "metadata": {
        "colab": {
          "base_uri": "https://localhost:8080/"
        },
        "id": "mE-RPrPzZdIr",
        "outputId": "2733fdbe-3f20-4b1e-892d-2bcb5e38a227"
      },
      "outputs": [],
      "source": [
        "len(cv.get_feature_names_out())"
      ]
    },
    {
      "cell_type": "markdown",
      "metadata": {
        "id": "xZx8PT60aA1F"
      },
      "source": [
        "<u>**Urdu:**</u>\n",
        "\n",
        "Abb hamare paas 4806 movies aagayi hain. Hamen har movie ka har movie k saath distance calculate karna ha to calculate similarity.\n",
        "\n",
        "Distance/Similarity calculate karne k 2 tareeqe hain:\n",
        "\n",
        "1. **Eucledian Distance:** Yahan ek vector k head ka dsre vector k head tk distance calculate karte hain. High dimensionality main eucledian distance fail karta ha, it's not reliable. (We won't use this method)\n",
        "\n",
        "2. **Cosine Similarity:** Iss main hum 2non vectors k beech ka angle calculate karte hain. (We'll use this method)\n",
        "\n",
        "<u>**English:**</u>\n",
        "\n",
        "Now we have 4806 movies. We need to calculate the distance or similarity between each movie and every other movie.\n",
        "\n",
        "There are two methods to calculate distance/similarity:\n",
        "\n",
        "1. **Euclidean Distance:** Here, we calculate the distance from the head of one vector to the head of another vector. Euclidean distance fails in high dimensionality; it's not reliable. (We won't use this method)\n",
        "\n",
        "2. **Cosine Similarity:** In this method, we calculate the angle between the two vectors. (We'll use this method)"
      ]
    },
    {
      "cell_type": "code",
      "execution_count": null,
      "metadata": {
        "id": "VzDtKMOKZvce"
      },
      "outputs": [],
      "source": [
        "from sklearn.metrics.pairwise import cosine_similarity"
      ]
    },
    {
      "cell_type": "code",
      "execution_count": null,
      "metadata": {
        "id": "No1shEfFbPaB"
      },
      "outputs": [],
      "source": [
        "similarity =cosine_similarity(vectors)"
      ]
    },
    {
      "cell_type": "code",
      "execution_count": null,
      "metadata": {
        "colab": {
          "base_uri": "https://localhost:8080/"
        },
        "id": "v6s1dHs_cHXf",
        "outputId": "21b11058-ad0b-49ee-9040-9360a04062a1"
      },
      "outputs": [],
      "source": [
        "similarity[0]"
      ]
    },
    {
      "cell_type": "markdown",
      "metadata": {
        "id": "s7pc39s7btsu"
      },
      "source": [
        "<u>**Urdu:**</u>\n",
        "\n",
        "Har movie ka har movie k saath distance calculate kar rahe hain, therefore ek array k andar **4806** values hain, distance with every movie\n",
        "\n",
        "<u>**English:**</u>\n",
        "\n",
        "We are calculating the distance between each movie and every other movie, resulting in an array with **4806** values, representing the distance with every movie."
      ]
    },
    {
      "cell_type": "code",
      "execution_count": null,
      "metadata": {
        "colab": {
          "base_uri": "https://localhost:8080/"
        },
        "id": "YRQRNcJgbR7H",
        "outputId": "5c67a58d-40ef-4974-f073-569f5c88fe3b"
      },
      "outputs": [],
      "source": [
        "cosine_similarity(vectors).shape"
      ]
    },
    {
      "cell_type": "markdown",
      "metadata": {
        "id": "Z3Di193Eb6U-"
      },
      "source": [
        "<u>**Urdu:**</u>\n",
        "\n",
        "**4806** movies ka ek dusre k saath distance hamen (4806,4806) shape dega\n",
        "\n",
        "<u>**English:**</u>\n",
        "\n",
        "The distance calculation between **4806** movies with each other will give us a shape of (4806, 4806).\n"
      ]
    },
    {
      "cell_type": "markdown",
      "metadata": {
        "id": "8SGHh002cccU"
      },
      "source": [
        "<u>**Urdu:**</u>\n",
        "\n",
        "Abb hamen ek movie di jayegi, hum pehle uska index nikaalenge, jis k through hum similarity index ko access karenge, jo movie di gayi ha uska array nikaalenge, uss array ko sort karenge jis se jo similar movies hain wo pehle aajayengi, jo dissimilar movies hain wo peeche chali jayengi\n",
        "\n",
        "<u>**English:**</u>\n",
        "\n",
        "Now, given a movie, we will first determine its index. Through this index, we will access the similarity array. We will then extract that array, sort it, so that the most similar movies come first, and the less similar ones come later."
      ]
    },
    {
      "cell_type": "code",
      "execution_count": null,
      "metadata": {
        "colab": {
          "base_uri": "https://localhost:8080/"
        },
        "id": "zE34bXEkdK3c",
        "outputId": "30eb98a9-516e-485d-f4af-d565d679346e"
      },
      "outputs": [],
      "source": [
        "#Fetching index\n",
        "new_movie_df[new_movie_df['title'] == \"Batman Begins\"].index[0]"
      ]
    },
    {
      "cell_type": "markdown",
      "metadata": {
        "id": "zdcVHWaednko"
      },
      "source": [
        "Let's break down the given line:\n",
        "\n",
        "```python\n",
        "new_movie_df[new_movie_df['title'] == \"Batman Begins\"].index[0]\n",
        "```\n",
        "\n",
        "This line is used to find the index of the first occurrence of the movie with the title \"Batman Begins\" in the DataFrame `new_movie_df`. Let's break it down step by step:\n",
        "\n",
        "1. `new_movie_df['title'] == \"Batman Begins\"`: This part of the code creates a boolean mask by comparing each value in the 'title' column of `new_movie_df` with the string \"Batman Begins\". The result is a boolean Series where each element is `True` if the title is \"Batman Begins\" and `False` otherwise.\n",
        "\n",
        "2. `new_movie_df[...]`: This part of the code uses boolean indexing to filter the rows in `new_movie_df` where the condition is `True`. It selects only the rows where the title is \"Batman Begins\".\n",
        "\n",
        "3. `.index`: This part retrieves the index labels of the selected rows. It returns an Index object containing the index labels.\n",
        "\n",
        "4. `[0]`: This part extracts the first element (index) from the Index object. It is assuming that there is at least one row with the title \"Batman Begins,\" and it retrieves the index of the first occurrence.\n",
        "\n",
        "So, in summary, the entire line retrieves the index of the first occurrence of the movie with the title \"Batman Begins\" in the DataFrame `new_movie_df`."
      ]
    },
    {
      "cell_type": "markdown",
      "metadata": {
        "id": "Ac00aXyges9G"
      },
      "source": [
        "<u>**Urdu:**</u>\n",
        "\n",
        "Abb hamen sorting ki zarurat ha. Lekin hum agar hum below function use karenge to sorting to hojayegi lekin hum undex lose kardenge. Which means jese hamen array ko dekh k pata ha k pehli movie ka pehli movie k saath yeh distance ha, pehli movie ka dsri movie k saath yeh distance ha. But sorted lagane k baad index change hojayega har movie ka\n",
        "\n",
        "```\n",
        "sorted(similarity[0])\n",
        "```\n",
        "Instead hum neeche waala function use karenge jo hamen ek tuple dega k pehli movie ka knsi movie k saath sabb se zaada similar index ha. Iss main lambda wala part bata raha ha k hamen first number k saath sorting nahi karni balke second number k saath sorting karni hai\n",
        "\n",
        "\n",
        "\n",
        "```\n",
        "sorted(list(enumerate(similarity[0])), reverse = True, key = lambda x:x[1])\n",
        "```\n",
        "<u>**English:**</u>\n",
        "\n",
        "Now, we need to perform sorting. However, if we use the function below, the sorting will be done, but we will lose the index. This means, by looking at the array, we can understand that the first movie has this distance with the first movie, and the first movie has this distance with the second movie. But after applying the sorted function, the index will change for each movie.\n",
        "\n",
        "```\n",
        "sorted(similarity[0])\n",
        "```\n",
        "\n",
        "Instead, we will use the function below, which will give us a tuple indicating which movie has the highest similarity index with the first movie. The lambda part specifies that we are not sorting based on the first number but based on the second number.\n",
        "\n",
        "```\n",
        "sorted(list(enumerate(similarity[0])), reverse=True, key=lambda x: x[1])\n",
        "```\n",
        "\n",
        "\n"
      ]
    },
    {
      "cell_type": "code",
      "execution_count": null,
      "metadata": {
        "id": "8HCqqRqDf3zy"
      },
      "outputs": [],
      "source": [
        "#returns a tuple showing index and similarity\n",
        "# list(enumerate(similarity[0]))"
      ]
    },
    {
      "cell_type": "code",
      "execution_count": null,
      "metadata": {
        "id": "tnBVjAjif1QX"
      },
      "outputs": [],
      "source": [
        "#Sorting the array based on index\n",
        "# sorted(list(enumerate(similarity[0])), reverse = True)"
      ]
    },
    {
      "cell_type": "code",
      "execution_count": null,
      "metadata": {
        "colab": {
          "base_uri": "https://localhost:8080/"
        },
        "id": "kb8xL8DNgDO6",
        "outputId": "d091526d-e9b2-435f-f6d1-5fc971b8296e"
      },
      "outputs": [],
      "source": [
        "#sorting the array based on similarity value\n",
        "sorted(list(enumerate(similarity[0])), reverse = True, key = lambda x:x[1])[1:6]"
      ]
    },
    {
      "cell_type": "code",
      "execution_count": null,
      "metadata": {
        "id": "0A_nAZ3obr28"
      },
      "outputs": [],
      "source": [
        "def recommend(movie):\n",
        "  movie_index = new_movie_df[new_movie_df['title'] == movie].index[0]\n",
        "  distances = similarity[movie_index]\n",
        "  movies_list = sorted(list(enumerate(distances)), reverse = True, key = lambda x:x[1])[1:6]\n",
        "\n",
        "  for i in movies_list:\n",
        "    print(new_movie_df.iloc[i[0]].title)\n"
      ]
    },
    {
      "cell_type": "code",
      "execution_count": null,
      "metadata": {
        "colab": {
          "base_uri": "https://localhost:8080/"
        },
        "id": "TMgmNlCrm9GP",
        "outputId": "f887c70c-523e-4016-a832-911192dac9e8"
      },
      "outputs": [],
      "source": [
        "recommend(\"Batman Begins\")"
      ]
    },
    {
      "cell_type": "code",
      "execution_count": null,
      "metadata": {
        "id": "6Ov6hgyfm_7m"
      },
      "outputs": [],
      "source": []
    }
  ],
  "metadata": {
    "colab": {
      "provenance": []
    },
    "kernelspec": {
      "display_name": "Python 3",
      "name": "python3"
    },
    "language_info": {
      "name": "python"
    }
  },
  "nbformat": 4,
  "nbformat_minor": 0
}
